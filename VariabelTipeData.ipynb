{
 "cells": [
  {
   "cell_type": "markdown",
   "id": "3dba2caa",
   "metadata": {},
   "source": [
    "<h1>Variabel dan Tipe Data</h1><hr>\n",
    "Tipe Data pada Python adalah:\n",
    "<ol>\n",
    "    <li>Float - (float)</li>\n",
    "    <li>String - (str)</li>\n",
    "    <li>Boolean - (bool)</li>\n",
    "    <li>Integer - (int)</li>\n",
    "</ol><hr>\n",
    "<font color=\"pink\"><i>Aturan Penamaan Variabel:</i></font>\n",
    "<ul>\n",
    "    <li>Tidak boleh menggunakan spasi</li>\n",
    "    <li>Bersifat case sensitive=> A != a</li>\n",
    "    <li>Terdiri dari huruf, angka dan karakter _ (underscore)</li>\n",
    "    <li>Diawali underscore atai huruf</li>\n",
    "    <li>Tidak boleh menggunakan reserved keyword</li>\n",
    "    </ul>"
   ]
  },
  {
   "cell_type": "code",
   "execution_count": 22,
   "id": "fe27c504",
   "metadata": {},
   "outputs": [
    {
     "name": "stdout",
     "output_type": "stream",
     "text": [
      "100\n",
      "50.6\n",
      "1\n",
      "True\n"
     ]
    }
   ],
   "source": [
    "data_integer = 100\n",
    "data_float = 50.6\n",
    "data_string = \"1\"\n",
    "data_boolean = True\n",
    "\n",
    "data_string\n",
    "print(data_integer)\n",
    "print(data_float)\n",
    "print(data_string)\n",
    "print(data_boolean)"
   ]
  },
  {
   "cell_type": "code",
   "execution_count": 5,
   "id": "7d7f8e61",
   "metadata": {},
   "outputs": [
    {
     "name": "stdout",
     "output_type": "stream",
     "text": [
      "<class 'int'>\n",
      "<class 'float'>\n",
      "<class 'str'>\n",
      "<class 'bool'>\n"
     ]
    }
   ],
   "source": [
    "print(type(data_integer))\n",
    "print(type(data_float))\n",
    "print(type(data_string))\n",
    "print(type(data_boolean))"
   ]
  },
  {
   "cell_type": "markdown",
   "id": "768c0361",
   "metadata": {},
   "source": [
    "<h3><font color=\"pink\"><i>Konversi Tipe Data dari Integer ke (String,Float,Boolean)</i></font></h3>"
   ]
  },
  {
   "cell_type": "code",
   "execution_count": 7,
   "id": "3cc8f32e",
   "metadata": {},
   "outputs": [
    {
     "name": "stdout",
     "output_type": "stream",
     "text": [
      "Isikan bilangan 1 : 12\n",
      "Isikan bilangan 2 : 32\n",
      "44\n"
     ]
    }
   ],
   "source": [
    "bil1 = input(\"Isikan bilangan 1 : \")\n",
    "bil2 = input(\"Isikan bilangan 2 : \")\n",
    "hasil = int  (bil1) + int (bil2)\n",
    "print(hasil)"
   ]
  },
  {
   "cell_type": "code",
   "execution_count": 23,
   "id": "c3970413",
   "metadata": {},
   "outputs": [
    {
     "name": "stdout",
     "output_type": "stream",
     "text": [
      "100.0\n",
      "50.6\n",
      "True\n",
      "1\n",
      "<class 'float'>\n",
      "<class 'str'>\n",
      "<class 'bool'>\n",
      "<class 'int'>\n"
     ]
    }
   ],
   "source": [
    "integer_to_float = float(data_integer)\n",
    "float_to_string = str(data_float)\n",
    "string_to_boolean = bool(data_string)\n",
    "boolean_to_integer = int(data_boolean)\n",
    "\n",
    "print(integer_to_float)\n",
    "print(float_to_string)\n",
    "print(string_to_boolean)\n",
    "print(boolean_to_integer)\n",
    "\n",
    "print(type(integer_to_float))\n",
    "print(type(float_to_string))\n",
    "print(type(string_to_boolean))\n",
    "print(type(boolean_to_integer))"
   ]
  }
 ],
 "metadata": {
  "kernelspec": {
   "display_name": "Python 3 (ipykernel)",
   "language": "python",
   "name": "python3"
  },
  "language_info": {
   "codemirror_mode": {
    "name": "ipython",
    "version": 3
   },
   "file_extension": ".py",
   "mimetype": "text/x-python",
   "name": "python",
   "nbconvert_exporter": "python",
   "pygments_lexer": "ipython3",
   "version": "3.9.12"
  }
 },
 "nbformat": 4,
 "nbformat_minor": 5
}
