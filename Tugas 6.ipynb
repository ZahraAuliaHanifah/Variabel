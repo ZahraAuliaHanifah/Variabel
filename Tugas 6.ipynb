{
 "cells": [
  {
   "cell_type": "markdown",
   "id": "508157cf-cabd-4fe6-8d73-e9002be81975",
   "metadata": {},
   "source": [
    "<h1>Tugas Sesi 6</h1><hr>"
   ]
  },
  {
   "cell_type": "markdown",
   "id": "30dc1d41-bfea-4cf8-809c-744e9a2d9100",
   "metadata": {},
   "source": [
    "Nama : Zahra Aulia Hanifah (TI23G)"
   ]
  },
  {
   "cell_type": "code",
   "execution_count": 4,
   "id": "1773c069-a9db-4822-8665-b21e825040e0",
   "metadata": {},
   "outputs": [
    {
     "name": "stdin",
     "output_type": "stream",
     "text": [
      "Masukkan nilai pengcodingan :  90\n",
      "Masukkan nilai interview :  B\n"
     ]
    },
    {
     "name": "stdout",
     "output_type": "stream",
     "text": [
      "Selamat, Kamu Berhasil Menjadi Calon Programmer.\n"
     ]
    }
   ],
   "source": [
    "score_pengcodingan = int(input(\"Masukkan nilai pengcodingan : \"))\n",
    "score_interview = input(\"Masukkan nilai interview : \")\n",
    "\n",
    "hasil_pengcodingan = ' '\n",
    "hasil_interview = ' '\n",
    "\n",
    "if score_pengcodingan >= 0 and score_pengcodingan <= 100:\n",
    "    if score_pengcodingan > 80:\n",
    "        hasil_pengcodingan = 'LOLOS'\n",
    "    elif 60 <= nilai_coding <= 80:\n",
    "        hasil_pengcodingan = 'DIPERTIMBANGKAN'\n",
    "    else:\n",
    "        hasil_pengcodingan = 'GAGAL'\n",
    "    \n",
    "\n",
    "if score_interview in ['A', 'B']:\n",
    "    hasil_interview = 'LOLOS'\n",
    "else:\n",
    "    hasil_interview = 'GAGAL'\n",
    "\n",
    "\n",
    "if hasil_pengcodingan == \"LOLOS\" and hasil_interview == \"LOLOS\" or (hasil_pengcodingan == \"DIPERTIMBANGKAN\" and hasil_interview == \"LOLOS\"):\n",
    "    print(\"Selamat, Kamu Berhasil Menjadi Calon Programmer.\")\n",
    "else:\n",
    "    print(\"Maaf, Kamu Belum Berhasil Menjadi Calon Programmer.\")"
   ]
  },
  {
   "cell_type": "code",
   "execution_count": 13,
   "id": "104c4841-d7f0-4cf1-9c7d-a5c800547240",
   "metadata": {},
   "outputs": [
    {
     "name": "stdin",
     "output_type": "stream",
     "text": [
      "Masukkan Nomor Punggung :  12\n"
     ]
    },
    {
     "name": "stdout",
     "output_type": "stream",
     "text": [
      "12 Dapat digunakan untuk posisi Target Attacker\n"
     ]
    }
   ],
   "source": [
    "nomor_punggung = int(input(\"Masukkan Nomor Punggung : \"))\n",
    "\n",
    "posisi = ' '\n",
    "if nomor_punggung % 2 == 0:\n",
    "    posisi = 'Target Attacker'\n",
    "    if nomor_punggung > 50 and nomor_punggung <= 100:\n",
    "        posisi = 'berhak dipilih menjadi Capten Team'\n",
    "    \n",
    "else:\n",
    "    if nomor_punggung % 1 == 0:\n",
    "        posisi = 'Defender'\n",
    "    elif nomor_punggung > 90:\n",
    "        posisi = 'Playmaker'\n",
    "    elif nomor_punggung % 3 == 0 or nomor_punggung % 5 == 0:\n",
    "        posisi = 'Keeper'\n",
    "\n",
    "print(f\"Pemain dengan nomor punggung {nomor_punggung} digunakan untuk posisi {posisi}\")"
   ]
  }
 ],
 "metadata": {
  "kernelspec": {
   "display_name": "Python 3 (ipykernel)",
   "language": "python",
   "name": "python3"
  },
  "language_info": {
   "codemirror_mode": {
    "name": "ipython",
    "version": 3
   },
   "file_extension": ".py",
   "mimetype": "text/x-python",
   "name": "python",
   "nbconvert_exporter": "python",
   "pygments_lexer": "ipython3",
   "version": "3.11.7"
  }
 },
 "nbformat": 4,
 "nbformat_minor": 5
}
